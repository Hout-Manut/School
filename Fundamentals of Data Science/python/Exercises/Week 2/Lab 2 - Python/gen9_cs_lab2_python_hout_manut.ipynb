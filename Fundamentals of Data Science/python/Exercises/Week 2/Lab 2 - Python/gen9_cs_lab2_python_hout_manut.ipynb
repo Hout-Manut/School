{
 "cells": [
  {
   "cell_type": "markdown",
   "metadata": {},
   "source": [
    "# Week 2 Lab: Welcome to Python!"
   ]
  },
  {
   "cell_type": "markdown",
   "metadata": {},
   "source": [
    "## Submission\n",
    "\n",
    "Name your Jupyter notebook `Gen8_DB_Lab2_{YOUR_LASTNAME}_{YOUR_FIRSTNAME}.ipynb`. For instance, Group A Bora Thida's submission for this lab should be called `g8_groupA_lab1_bora_thida.ipynb` and submit in LMS on `Python Programming Fundamentals`."
   ]
  },
  {
   "cell_type": "markdown",
   "metadata": {},
   "source": [
    "## Let's get started!"
   ]
  },
  {
   "cell_type": "markdown",
   "metadata": {},
   "source": [
    "### **Exercise 1:** Print First 10 natural numbers using **while loop**\n",
    "\n",
    "**Expected output:**\n",
    "````\n",
    "0\n",
    "1\n",
    "2\n",
    "3\n",
    "4\n",
    "5\n",
    "6\n",
    "7\n",
    "8\n",
    "9\n",
    "10\n",
    "````"
   ]
  },
  {
   "cell_type": "code",
   "execution_count": 678,
   "metadata": {},
   "outputs": [
    {
     "name": "stdout",
     "output_type": "stream",
     "text": [
      "0\n",
      "1\n",
      "2\n",
      "3\n",
      "4\n",
      "5\n",
      "6\n",
      "7\n",
      "8\n",
      "9\n",
      "10\n"
     ]
    }
   ],
   "source": [
    "# Your Code\n",
    "i = 0\n",
    "while i <= 10:\n",
    "    print(i)\n",
    "    i += 1"
   ]
  },
  {
   "cell_type": "markdown",
   "metadata": {},
   "source": [
    "### **Exercise 2**: Given 2 strings, s1 and s2, concat 2 strings\n",
    "Given:\n",
    "````\n",
    "s1 = \"Hello\"\n",
    "s2 = \"World\"\n",
    "````\n",
    "**Expected Output:**\n",
    "````\n",
    "    Hello World\n",
    "\n",
    "````"
   ]
  },
  {
   "cell_type": "code",
   "execution_count": 28,
   "metadata": {},
   "outputs": [
    {
     "name": "stdout",
     "output_type": "stream",
     "text": [
      "Hello World\n"
     ]
    }
   ],
   "source": [
    "s1 = 'Hello'\n",
    "s2 = 'World'\n",
    "\n",
    "print(' '.join([s1, s2]))"
   ]
  },
  {
   "cell_type": "markdown",
   "metadata": {},
   "source": [
    "### **Exercise 3**: Removal all the characters other than integers from string\n",
    "Given:\n",
    "````\n",
    "I am 25 years and 10 months old\n",
    "````\n",
    "**Expected Output:**\n",
    "````\n",
    "2510\n",
    "````\n",
    "**Hint: \n",
    "- list comprehension,\n",
    "- Join(),\n",
    "- isdigit()"
   ]
  },
  {
   "cell_type": "code",
   "execution_count": 679,
   "metadata": {},
   "outputs": [
    {
     "name": "stdout",
     "output_type": "stream",
     "text": [
      "2510\n"
     ]
    }
   ],
   "source": [
    "string = 'I am 25 years and 10 months old'\n",
    "\n",
    "integers = [char for char in string if char.isdigit()]\n",
    "\n",
    "print(''.join(integers))"
   ]
  },
  {
   "cell_type": "markdown",
   "metadata": {},
   "source": [
    "### Tuple"
   ]
  },
  {
   "cell_type": "markdown",
   "metadata": {},
   "source": [
    "### **Exercise 4**: Create a tuple with single item 50"
   ]
  },
  {
   "cell_type": "code",
   "execution_count": 30,
   "metadata": {},
   "outputs": [],
   "source": [
    "x = 50,"
   ]
  },
  {
   "cell_type": "markdown",
   "metadata": {},
   "source": [
    "**Exercise 4**: Unpack the following tuple into 4 variables\n",
    "````\n",
    "aTuple = (10, 20, 30, 40)\n",
    "````\n",
    "\n",
    "**Expected output:**\n",
    "\n",
    "````\n",
    "aTuple = (10, 20, 30, 40)\n",
    "# Your code\n",
    "print(a) # should print 10\n",
    "print(b) # should print 20\n",
    "print(c) # should print 30\n",
    "print(d) # should print 40\n",
    "````"
   ]
  },
  {
   "cell_type": "code",
   "execution_count": 31,
   "metadata": {},
   "outputs": [
    {
     "name": "stdout",
     "output_type": "stream",
     "text": [
      "10\n",
      "20\n",
      "30\n",
      "40\n"
     ]
    }
   ],
   "source": [
    "aTuple = (10, 20, 30, 40)\n",
    "\n",
    "a, b, c, d = aTuple\n",
    "\n",
    "print(a)\n",
    "print(b)\n",
    "print(c)\n",
    "print(d)"
   ]
  },
  {
   "cell_type": "markdown",
   "metadata": {},
   "source": [
    "### **Exercise 5**: Swap the following two tuples\n",
    "````\n",
    "tuple1 = (11, 22)\n",
    "tuple2 = (99, 88)\n",
    "````\n",
    "**Expected output:**\n",
    "````\n",
    "tuple1 = (99, 88)\n",
    "tuple2 = (11, 22)\n",
    "````"
   ]
  },
  {
   "cell_type": "code",
   "execution_count": 128,
   "metadata": {},
   "outputs": [
    {
     "data": {
      "text/plain": [
       "(11, 22)"
      ]
     },
     "execution_count": 128,
     "metadata": {},
     "output_type": "execute_result"
    }
   ],
   "source": [
    "tuple1 = (11, 22)\n",
    "tuple2 = (99, 88)\n",
    "\n",
    "tuple2, tuple1 = tuple1, tuple2\n",
    "\n",
    "print(tuple1)\n",
    "print(tuple2)"
   ]
  },
  {
   "cell_type": "markdown",
   "metadata": {},
   "source": [
    "### Set"
   ]
  },
  {
   "cell_type": "markdown",
   "metadata": {},
   "source": [
    "### **Exercise 6**: Add a list of elements to a given set\n",
    "````\n",
    "sampleSet = {\"Yellow\", \"Orange\", \"Black\"}\n",
    "sampleList = [\"Blue\", \"Green\", \"Red\"]\n",
    "````\n",
    "**Expected output:**\n",
    "\n",
    "In set item order is not a concern\n",
    "````\n",
    "{'Green', 'Yellow', 'Black', 'Orange', 'Red', 'Blue'}\n",
    "````\n",
    "**Hint: use update()"
   ]
  },
  {
   "cell_type": "code",
   "execution_count": null,
   "metadata": {},
   "outputs": [
    {
     "data": {
      "text/plain": [
       "{'Black', 'Blue', 'Green', 'Orange', 'Red', 'Yellow'}"
      ]
     },
     "execution_count": 129,
     "metadata": {},
     "output_type": "execute_result"
    }
   ],
   "source": [
    "sampleSet = {'Yellow', 'Orange', 'Black'}\n",
    "sampleList = ['Blue', 'Green', 'Red']\n",
    "\n",
    "sampleSet.update(sampleList)\n",
    "\n",
    "sampleSet"
   ]
  },
  {
   "cell_type": "markdown",
   "metadata": {},
   "source": [
    "### **Exercise 7**: Returns a new set with all items from both sets by removing duplicates\n",
    "````\n",
    "set1 = {10, 20, 30, 40, 50}\n",
    "set2 = {30, 40, 50, 60, 70}\n",
    "````\n",
    "**Expected output:**\n",
    "\n",
    "````\n",
    "{70, 40, 10, 50, 20, 60, 30}\n",
    "````\n",
    "Remember set is unordered so not necessary this will be the order of the item."
   ]
  },
  {
   "cell_type": "code",
   "execution_count": 130,
   "metadata": {},
   "outputs": [
    {
     "data": {
      "text/plain": [
       "{10, 20, 30, 40, 50, 60, 70}"
      ]
     },
     "execution_count": 130,
     "metadata": {},
     "output_type": "execute_result"
    }
   ],
   "source": [
    "set1 = {10, 20, 30, 40, 50}\n",
    "set2 = {30, 40, 50, 60, 70}\n",
    "\n",
    "set1 | set2"
   ]
  },
  {
   "cell_type": "markdown",
   "metadata": {},
   "source": [
    "### Dictionaries"
   ]
  },
  {
   "cell_type": "markdown",
   "metadata": {},
   "source": [
    "### **Exercise 8**: Below are the two lists convert it into the dictionary\n",
    "````\n",
    "keys = ['Ten', 'Twenty', 'Thirty']\n",
    "values = [10, 20, 30]\n",
    "````\n",
    "**Expected output:**\n",
    "\n",
    "````\n",
    "{'Ten': 10, 'Twenty': 20, 'Thirty': 30}````"
   ]
  },
  {
   "cell_type": "code",
   "execution_count": 131,
   "metadata": {},
   "outputs": [
    {
     "data": {
      "text/plain": [
       "{'Ten': 10, 'Twenty': 20, 'Thirty': 30}"
      ]
     },
     "execution_count": 131,
     "metadata": {},
     "output_type": "execute_result"
    }
   ],
   "source": [
    "keys = ['Ten', 'Twenty', 'Thirty']\n",
    "values = [10, 20, 30]\n",
    "\n",
    "dict(zip(keys, values))"
   ]
  },
  {
   "cell_type": "markdown",
   "metadata": {},
   "source": [
    "### **Exercise 9**: Merge following two Python dictionaries into one\n",
    "````\n",
    "dict1 = {'Ten': 10, 'Twenty': 20, 'Thirty': 30}\n",
    "dict2 = {'Thirty': 30, 'Fourty': 40, 'Fifty': 50}\n",
    "````\n",
    "**Expected output:**\n",
    "\n",
    "````\n",
    "{'Ten': 10, 'Twenty': 20, 'Thirty': 30, 'Fourty': 40, 'Fifty': 50}\n",
    "````"
   ]
  },
  {
   "cell_type": "code",
   "execution_count": 132,
   "metadata": {},
   "outputs": [
    {
     "data": {
      "text/plain": [
       "{'Ten': 10, 'Twenty': 20, 'Thirty': 30, 'Fourty': 40, 'Fifty': 50}"
      ]
     },
     "execution_count": 132,
     "metadata": {},
     "output_type": "execute_result"
    }
   ],
   "source": [
    "dict1 = {'Ten': 10, 'Twenty': 20, 'Thirty': 30}\n",
    "dict2 = {'Thirty': 30, 'Fourty': 40, 'Fifty': 50}\n",
    "\n",
    "dict1 | dict2"
   ]
  },
  {
   "cell_type": "markdown",
   "metadata": {},
   "source": [
    "## Mixed parts"
   ]
  },
  {
   "cell_type": "markdown",
   "metadata": {},
   "source": [
    "###  **Exercise 10:** Write a loop to find the factorial of any number\n",
    "The factorial (symbol: !) means to multiply all whole numbers from our chosen number down to 1.\n",
    "\n",
    "**For example:** calculate the factorial of 5\n",
    "\n",
    "5! = 5 × 4 × 3 × 2 × 1 = 120\n",
    "\n",
    "**Expected output:**\n",
    "````\n",
    "120\n",
    "````"
   ]
  },
  {
   "cell_type": "code",
   "execution_count": 680,
   "metadata": {},
   "outputs": [
    {
     "data": {
      "text/plain": [
       "120"
      ]
     },
     "execution_count": 680,
     "metadata": {},
     "output_type": "execute_result"
    }
   ],
   "source": [
    "def factorial(n):\n",
    "    result = 1\n",
    "    for i in range(1, n + 1):\n",
    "        result *= i\n",
    "        \n",
    "    return result\n",
    "\n",
    "factorial(5)"
   ]
  },
  {
   "cell_type": "markdown",
   "metadata": {},
   "source": [
    "### **Exercise 11:** Reverse a given integer number\n",
    "Given:\n",
    "````\n",
    "76542\n",
    "````\n",
    "\n",
    "**Expected output:**\n",
    "````\n",
    "24567\n",
    "````"
   ]
  },
  {
   "cell_type": "code",
   "execution_count": 620,
   "metadata": {},
   "outputs": [
    {
     "data": {
      "text/plain": [
       "24567"
      ]
     },
     "execution_count": 620,
     "metadata": {},
     "output_type": "execute_result"
    }
   ],
   "source": [
    "def reverse_num(num):\n",
    "    return int(''.join(reversed(str(num))))\n",
    "\n",
    "reverse_num(76542)"
   ]
  },
  {
   "cell_type": "markdown",
   "metadata": {},
   "source": [
    "### **Exercise 12:** Find the sum of the series 2 +22 + 222 + 2222 + .. n terms\n",
    "\n",
    "Given:\n",
    "````\n",
    "number_of_terms = 5\n",
    "````\n",
    "So series will become 2 + 22 + 222 + 2222 + 22222\n",
    "\n",
    "**Expected output:**\n",
    "````\n",
    "24690\n",
    "````"
   ]
  },
  {
   "cell_type": "code",
   "execution_count": 659,
   "metadata": {},
   "outputs": [
    {
     "data": {
      "text/plain": [
       "24690"
      ]
     },
     "execution_count": 659,
     "metadata": {},
     "output_type": "execute_result"
    }
   ],
   "source": [
    "def sum_series(n):\n",
    "    seq = [int('2'*i) for i in range(1, n + 1)]\n",
    "    return sum(seq)\n",
    "    \n",
    "sum_series(5)"
   ]
  },
  {
   "cell_type": "markdown",
   "metadata": {},
   "source": [
    "### **Exercise 13:** Create a function that can accept two arguments name and age and print its value"
   ]
  },
  {
   "cell_type": "code",
   "execution_count": 660,
   "metadata": {},
   "outputs": [
    {
     "name": "stdout",
     "output_type": "stream",
     "text": [
      "Name: Manut\n",
      "Age: 20\n"
     ]
    }
   ],
   "source": [
    "def print_value(name, age):\n",
    "    print('Name:', name)\n",
    "    print('Age:', age)\n",
    "    \n",
    "print_value('Manut', 20)"
   ]
  },
  {
   "cell_type": "markdown",
   "metadata": {},
   "source": [
    "### **Exercise 14:** Write a function func1() such that it can accept a variable length of  argument and print all arguments value\n",
    "````\n",
    "func1(20, 40, 60)\n",
    "func1(80, 100)\n",
    "````\n",
    "\n",
    "**Expected Output:**\n",
    "\n",
    "After func1(20, 40, 60):\n",
    "````\n",
    "20\n",
    "40\n",
    "60\n",
    "````\n",
    "\n",
    "After func1(80, 100):\n",
    "````\n",
    "80\n",
    "100\n",
    "````"
   ]
  },
  {
   "cell_type": "code",
   "execution_count": 661,
   "metadata": {
    "scrolled": true
   },
   "outputs": [
    {
     "name": "stdout",
     "output_type": "stream",
     "text": [
      "20\n",
      "40\n",
      "60\n",
      "80\n",
      "100\n"
     ]
    }
   ],
   "source": [
    "def func1(*args):\n",
    "    for item in args:\n",
    "        print(item)\n",
    "        \n",
    "func1(20, 40, 60)\n",
    "func1(80, 100)"
   ]
  },
  {
   "cell_type": "markdown",
   "metadata": {},
   "source": [
    "### **Exercise 15:** Create a function showEmployee() in such a way that it should accept employee name, and it’s salary and display both, and if the salary is missing in function call it should show it as 9000\n",
    "\n",
    "**Expected Output:**\n",
    "````\n",
    "showEmployee(\"Ben\", 9000)\n",
    "showEmployee(\"Ben\")\n",
    "````\n",
    "\n",
    "Should Produce:\n",
    "````\n",
    "Employee Ben salary is: 9000\n",
    "Employee Ben salary is: 9000\n",
    "````"
   ]
  },
  {
   "cell_type": "code",
   "execution_count": 662,
   "metadata": {},
   "outputs": [
    {
     "name": "stdout",
     "output_type": "stream",
     "text": [
      "Employee Ben salary is: 9000\n",
      "Employee Ben salary is: 9000\n"
     ]
    }
   ],
   "source": [
    "def showEmployee(name, salary=9000):\n",
    "    print(f'Employee {name} salary is: {salary}')\n",
    "\n",
    "showEmployee('Ben', 9000)\n",
    "showEmployee('Ben')"
   ]
  },
  {
   "cell_type": "markdown",
   "metadata": {
    "collapsed": true,
    "pycharm": {
     "name": "#%% md\n"
    }
   },
   "source": [
    "### **Exercise 16:** Given a two integer numbers return their product and  if the product is greater than 1000, then return their sum\n",
    "\n",
    "Given:\n",
    "\n",
    "````\n",
    "number1 = 20\n",
    "number2 = 30\n",
    "````\n",
    "\n",
    "Expected Output:\n",
    "\n",
    "`````\n",
    "The result is 600\n",
    "````\n",
    "Given:\n",
    "````\n",
    "number1 = 40\n",
    "number2 = 30\n",
    "````\n",
    "Expected Output:\n",
    "````\n",
    "The result is 70\n",
    "````"
   ]
  },
  {
   "cell_type": "code",
   "execution_count": 663,
   "metadata": {
    "pycharm": {
     "name": "#%%\n"
    }
   },
   "outputs": [
    {
     "name": "stdout",
     "output_type": "stream",
     "text": [
      "600\n",
      "70\n"
     ]
    }
   ],
   "source": [
    "def product_or_sum(number1, number2):\n",
    "    result = number1 * number2\n",
    "    if result < 1000:\n",
    "        return result\n",
    "    return number1 + number2\n",
    "\n",
    "\n",
    "print(product_or_sum(20, 30))\n",
    "print(product_or_sum(40, 30))"
   ]
  },
  {
   "cell_type": "markdown",
   "metadata": {},
   "source": [
    "### **Exercise 17**: Given a two list of equal size create a set such that it shows the element from both lists in the pair\n",
    "\n",
    "**Expected Output:**\n",
    "````\n",
    "First List  [2, 3, 4, 5, 6, 7, 8]\n",
    "Second List  [4, 9, 16, 25, 36, 49, 64]\n",
    "Result is  {(6, 36), (8, 64), (4, 16), (5, 25), (3, 9), (7, 49), (2, 4)}\n",
    "````\n",
    "**Hint: use zip()"
   ]
  },
  {
   "cell_type": "code",
   "execution_count": 664,
   "metadata": {},
   "outputs": [
    {
     "data": {
      "text/plain": [
       "{(2, 4), (3, 9), (4, 16), (5, 25), (6, 36), (7, 49), (8, 64)}"
      ]
     },
     "execution_count": 664,
     "metadata": {},
     "output_type": "execute_result"
    }
   ],
   "source": [
    "first_list = [2, 3, 4, 5, 6, 7, 8]\n",
    "second_list  = [4, 9, 16, 25, 36, 49, 64]\n",
    "\n",
    "set(zip(first_list, second_list))"
   ]
  },
  {
   "cell_type": "markdown",
   "metadata": {},
   "source": [
    "### **Exercise 18:** Given a range of first 10 numbers, Iterate from start number to the end number and print the sum of the current number and previous number\n",
    "\n",
    "Reference article for help:\n",
    "- [Python range() function](https://pynative.com/python-range-function/)\n",
    "- [Calculate sum and average in Python](https://pynative.com/python-program-to-calculate-sum-and-average-of-numbers/)\n",
    "\n",
    "**Expected Output:**\n",
    "````\n",
    "Printing current and previous number sum in a given range(10)\n",
    "Current Number 0 Previous Number  0  Sum:  0\n",
    "Current Number 1 Previous Number  0  Sum:  1\n",
    "Current Number 2 Previous Number  1  Sum:  3\n",
    "Current Number 3 Previous Number  2  Sum:  5\n",
    "Current Number 4 Previous Number  3  Sum:  7\n",
    "Current Number 5 Previous Number  4  Sum:  9\n",
    "Current Number 6 Previous Number  5  Sum:  11\n",
    "Current Number 7 Previous Number  6  Sum:  13\n",
    "Current Number 8 Previous Number  7  Sum:  15\n",
    "Current Number 9 Previous Number  8  Sum:  17\n",
    "````"
   ]
  },
  {
   "cell_type": "code",
   "execution_count": 681,
   "metadata": {},
   "outputs": [
    {
     "name": "stdout",
     "output_type": "stream",
     "text": [
      "Current Number 0 Previous Number 0 Sum: 0\n",
      "Current Number 1 Previous Number 0 Sum: 1\n",
      "Current Number 2 Previous Number 1 Sum: 3\n",
      "Current Number 3 Previous Number 2 Sum: 5\n",
      "Current Number 4 Previous Number 3 Sum: 7\n",
      "Current Number 5 Previous Number 4 Sum: 9\n",
      "Current Number 6 Previous Number 5 Sum: 11\n",
      "Current Number 7 Previous Number 6 Sum: 13\n",
      "Current Number 8 Previous Number 7 Sum: 15\n",
      "Current Number 9 Previous Number 8 Sum: 17\n"
     ]
    }
   ],
   "source": [
    "\n",
    "for i in range(10):\n",
    "    prev = i - 1 if i > 0 else i\n",
    "    print(f'Current Number {i} Previous Number {prev} Sum: {i + prev}')\n"
   ]
  },
  {
   "cell_type": "markdown",
   "metadata": {},
   "source": [
    "### **Exercise 19**: Delete set of keys from Python Dictionary\n",
    "Given:\n",
    "````\n",
    "sampleDict = {\n",
    "  \"name\": \"Kelly\",\n",
    "  \"age\":25,\n",
    "  \"salary\": 8000,\n",
    "  \"city\": \"New york\"\n",
    "  \n",
    "}\n",
    "keysToRemove = [\"name\", \"salary\"]\n",
    "````\n",
    "**Expected output:**\n",
    "\n",
    "````\n",
    "{'city': 'New york', 'age': 25}\n",
    "````"
   ]
  },
  {
   "cell_type": "code",
   "execution_count": 666,
   "metadata": {},
   "outputs": [
    {
     "data": {
      "text/plain": [
       "{'age': 25, 'city': 'New york'}"
      ]
     },
     "execution_count": 666,
     "metadata": {},
     "output_type": "execute_result"
    }
   ],
   "source": [
    "sampleDict = {'name': 'Kelly', 'age': 25, 'salary': 8000, 'city': 'New york'}\n",
    "keysToRemove = ['name', 'salary']\n",
    "\n",
    "for key in keysToRemove:\n",
    "    sampleDict.pop(key)\n",
    "    \n",
    "sampleDict"
   ]
  },
  {
   "cell_type": "markdown",
   "metadata": {
    "pycharm": {
     "name": "#%%\n"
    }
   },
   "source": [
    "### **Exercise 20:** Given a string, display only those characters which are present at an even index number.\n",
    "For example str = \"pynative\" so you should display ‘p’, ‘n’, ‘t’, ‘v’.\n",
    "\n",
    "Reference article for help: Python Input and Output\n",
    "\n",
    "**Expected Output:**\n",
    "````\n",
    "Orginal String is  pynative\n",
    "Printing only even index chars\n",
    "p\n",
    "n\n",
    "t\n",
    "v\n",
    "````"
   ]
  },
  {
   "cell_type": "code",
   "execution_count": 667,
   "metadata": {
    "pycharm": {
     "name": "#%%\n"
    }
   },
   "outputs": [
    {
     "name": "stdout",
     "output_type": "stream",
     "text": [
      "Original String is  pynative\n",
      "Printing only even index chars\n",
      "p\n",
      "n\n",
      "t\n",
      "v\n"
     ]
    }
   ],
   "source": [
    "string = 'pynative'\n",
    "\n",
    "print('Original String is ', string)\n",
    "print('Printing only even index chars')\n",
    "for i, char in enumerate(string):\n",
    "    if i % 2 == 0:\n",
    "        print(char)"
   ]
  },
  {
   "cell_type": "markdown",
   "metadata": {},
   "source": [
    "### **Exercise 21:** Given a list of numbers, return True if first and last number of a list is same\n",
    "\n",
    "**Expected Output:**\n",
    "````\n",
    "Given list is  [10, 20, 30, 40, 10]\n",
    "result is True\n",
    "Given list is  [10, 20, 30, 40, 50]\n",
    "result is False\n",
    "````"
   ]
  },
  {
   "cell_type": "code",
   "execution_count": 668,
   "metadata": {},
   "outputs": [
    {
     "name": "stdout",
     "output_type": "stream",
     "text": [
      "Given list is  [10, 20, 30, 40, 10]\n",
      "result is  True\n",
      "Given list is  [10, 20, 30, 40, 50]\n",
      "result is  False\n"
     ]
    }
   ],
   "source": [
    "def same_first_and_last(lst: list) -> bool:\n",
    "    return lst[0] == lst[-1]\n",
    "\n",
    "\n",
    "l1 = [10, 20, 30, 40, 10]\n",
    "l2 = [10, 20, 30, 40, 50]\n",
    "\n",
    "print('Given list is ', l1)\n",
    "print('result is ', same_first_and_last(l1))\n",
    "print('Given list is ', l2)\n",
    "print('result is ', same_first_and_last(l2))"
   ]
  },
  {
   "cell_type": "markdown",
   "metadata": {},
   "source": [
    "### **Exercise 22:** Given a list of numbers, Iterate it and print only those numbers which are divisible of 5\n",
    "\n",
    "**Expected Output:**\n",
    "````\n",
    "Given list is  [10, 20, 33, 46, 55]\n",
    "Divisible of 5 in a list\n",
    "10\n",
    "20\n",
    "55\n",
    "````\n"
   ]
  },
  {
   "cell_type": "code",
   "execution_count": 669,
   "metadata": {},
   "outputs": [
    {
     "name": "stdout",
     "output_type": "stream",
     "text": [
      "10\n",
      "20\n",
      "55\n"
     ]
    }
   ],
   "source": [
    "ls = [10, 20, 33, 46, 55]\n",
    "\n",
    "for num in ls:\n",
    "    if num % 5 == 0:\n",
    "        print(num)"
   ]
  },
  {
   "cell_type": "markdown",
   "metadata": {},
   "source": [
    "### **Exercise 23:** Return the total count of sub-string “Emma” appears in the given string\n",
    "\n",
    "Given string is “Emma is good developer. Emma is a writer”\n",
    "\n",
    "**Expected Output:**\n",
    "````\n",
    "Emma appeared 2 times\n",
    "````"
   ]
  },
  {
   "cell_type": "code",
   "execution_count": 670,
   "metadata": {},
   "outputs": [
    {
     "name": "stdout",
     "output_type": "stream",
     "text": [
      "2\n"
     ]
    }
   ],
   "source": [
    "import re\n",
    "\n",
    "def count_Emma(string):\n",
    "    matches = re.findall('Emma', string)\n",
    "    \n",
    "    return len(matches)\n",
    "\n",
    "print(count_Emma('Emma is a good developer, Emma is a writer'))\n"
   ]
  },
  {
   "cell_type": "markdown",
   "metadata": {},
   "source": [
    "### **Exercise 24:** Pri### nt the following pattern\n",
    "````\n",
    "1 \n",
    "2 2 \n",
    "3 3 3 \n",
    "4 4 4 4 \n",
    "5 5 5 5 5\n",
    "````"
   ]
  },
  {
   "cell_type": "code",
   "execution_count": null,
   "metadata": {},
   "outputs": [
    {
     "name": "stdout",
     "output_type": "stream",
     "text": [
      "1 \n",
      "2 2 \n",
      "3 3 3 \n",
      "4 4 4 4 \n",
      "5 5 5 5 5 \n"
     ]
    }
   ],
   "source": [
    "for i in range(1, 6):\n",
    "    for j in range(1, 6):\n",
    "        if j <= i:\n",
    "            print(i, end=' ')\n",
    "    print()"
   ]
  },
  {
   "cell_type": "markdown",
   "metadata": {},
   "source": [
    "### **Exercise 25:** Print downward Half-Pyramid Pattern with Star (asterisk)\n",
    "\n",
    "````\n",
    "* * * * *  \n",
    "* * * *  \n",
    "* * *  \n",
    "* *  \n",
    "*\n",
    "````"
   ]
  },
  {
   "cell_type": "code",
   "execution_count": 672,
   "metadata": {},
   "outputs": [
    {
     "name": "stdout",
     "output_type": "stream",
     "text": [
      "* * * * * \n",
      "* * * * \n",
      "* * * \n",
      "* * \n",
      "* \n"
     ]
    }
   ],
   "source": [
    "for i in range(5):\n",
    "    for j in range(5):\n",
    "        if j >= i:\n",
    "            print('*', end=' ')\n",
    "    print()"
   ]
  },
  {
   "cell_type": "markdown",
   "metadata": {},
   "source": [
    "### **Exercise 26:** Write a function called exponent(base, exp) that returns an int value of base raises to the power of exp.\n",
    "Note here exp is a non-negative integer, and the base is an integer.\n",
    "\n",
    "**Expected Output:**\n",
    "\n",
    "Case 1:\n",
    "\n",
    "base = 2\n",
    "exponent = 5\n",
    "\n",
    "2 raises to the power of 5 is: 32 i.e. (2 *2 * 2 *2 *2 = 32)\n",
    "\n",
    "Case 2:\n",
    "\n",
    "base = 5\n",
    "exponent = 4\n",
    "\n",
    "5 raises to the power of 4 is: 625 i.e. (5 *5 * 5 *5 = 625)"
   ]
  },
  {
   "cell_type": "code",
   "execution_count": 673,
   "metadata": {
    "scrolled": true
   },
   "outputs": [
    {
     "name": "stdout",
     "output_type": "stream",
     "text": [
      "2 raises to the power of 5 is: 32\n",
      "5 raises to the power of 4 is: 625\n"
     ]
    }
   ],
   "source": [
    "def exponent(b, e):\n",
    "    result = b\n",
    "    for i in range(1, e):\n",
    "        result *= b\n",
    "    return result\n",
    "\n",
    "base = 2\n",
    "exp = 5\n",
    "print(f'{base} raises to the power of {exp} is:', exponent(base, exp))\n",
    "\n",
    "base = 5\n",
    "exp = 4\n",
    "print(f'{base} raises to the power of {exp} is:', exponent(base, exp))"
   ]
  },
  {
   "cell_type": "markdown",
   "metadata": {},
   "source": [
    "## Extra Exercises!"
   ]
  },
  {
   "cell_type": "markdown",
   "metadata": {},
   "source": [
    "**!Exercise extra 1:** Print multiplication table form 1 to 10\n",
    "\n",
    "**Expected Output:**\n",
    "````\n",
    "1  2 3 4 5 6 7 8 9 10 \t\t\n",
    "2  4 6 8 10 12 14 16 18 20 \t\t\n",
    "3  6 9 12 15 18 21 24 27 30 \t\t\n",
    "4  8 12 16 20 24 28 32 36 40 \t\t\n",
    "5  10 15 20 25 30 35 40 45 50 \t\t\n",
    "6  12 18 24 30 36 42 48 54 60 \t\t\n",
    "7  14 21 28 35 42 49 56 63 70 \t\t\n",
    "8  16 24 32 40 48 56 64 72 80 \t\t\n",
    "9  18 27 36 45 54 63 72 81 90 \t\t\n",
    "10 20 30 40 50 60 70 80 90 100 \n",
    "````"
   ]
  },
  {
   "cell_type": "code",
   "execution_count": 674,
   "metadata": {},
   "outputs": [
    {
     "name": "stdout",
     "output_type": "stream",
     "text": [
      "   1   2   3   4   5   6   7   8   9  10\n",
      "   2   4   6   8  10  12  14  16  18  20\n",
      "   3   6   9  12  15  18  21  24  27  30\n",
      "   4   8  12  16  20  24  28  32  36  40\n",
      "   5  10  15  20  25  30  35  40  45  50\n",
      "   6  12  18  24  30  36  42  48  54  60\n",
      "   7  14  21  28  35  42  49  56  63  70\n",
      "   8  16  24  32  40  48  56  64  72  80\n",
      "   9  18  27  36  45  54  63  72  81  90\n",
      "  10  20  30  40  50  60  70  80  90 100\n"
     ]
    }
   ],
   "source": [
    "for i in range(1, 11):\n",
    "    for j in range(1, 11):\n",
    "        print(f'{i*j:4}', end='')\n",
    "        \n",
    "    print()"
   ]
  },
  {
   "cell_type": "markdown",
   "metadata": {},
   "source": [
    "**!Exercise extra 2:** Create an inner function to calculate the addition in the following way\n",
    "- Create an outer function that will accept two parameters a and b\n",
    "- Create an inner function inside an outer function that will calculate the addition of a and b\n",
    "- At last, an outer function will add 5 into addition and return it"
   ]
  },
  {
   "cell_type": "code",
   "execution_count": 675,
   "metadata": {},
   "outputs": [
    {
     "data": {
      "text/plain": [
       "15"
      ]
     },
     "execution_count": 675,
     "metadata": {},
     "output_type": "execute_result"
    }
   ],
   "source": [
    "def outer_function(a, b):\n",
    "    def inner_function():\n",
    "        return a + b\n",
    "    \n",
    "    return inner_function() + 5\n",
    "\n",
    "outer_function(5, 5)"
   ]
  },
  {
   "cell_type": "markdown",
   "metadata": {},
   "source": [
    "**!Exercise extra 3**: From given string replace each punctuation with #\n",
    "Given:\n",
    "````\n",
    "str1 = '/*Jon is @developer & musician!!'\n",
    "````\n",
    "**Expected Output:**\n",
    "````\n",
    "##Jon is #developer # musician##\n",
    "````"
   ]
  },
  {
   "cell_type": "code",
   "execution_count": 682,
   "metadata": {},
   "outputs": [
    {
     "data": {
      "text/plain": [
       "'##Jon is #developer # musician##'"
      ]
     },
     "execution_count": 682,
     "metadata": {},
     "output_type": "execute_result"
    }
   ],
   "source": [
    "str1 = '/*Jon is @developer & musician!!'\n",
    "\n",
    "re.sub(r'[^a-zA-Z1-9\\s]','#', str1)\n"
   ]
  },
  {
   "cell_type": "markdown",
   "metadata": {},
   "source": [
    "**Exercise extra 4**: Given a Python dictionary, Change Brad’s salary to 8500\n",
    "````\n",
    "sampleDict = {\n",
    "     'emp1': {'name': 'Jhon', 'salary': 7500},\n",
    "     'emp2': {'name': 'Emma', 'salary': 8000},\n",
    "     'emp3': {'name': 'Brad', 'salary': 6500}\n",
    "}\n",
    "````\n",
    "**Expected output:**\n",
    "````\n",
    "sampleDict = {\n",
    "     'emp1': {'name': 'Jhon', 'salary': 7500},\n",
    "     'emp2': {'name': 'Emma', 'salary': 8000},\n",
    "     'emp3': {'name': 'Brad', 'salary': 8500}\n",
    "}\n",
    "````"
   ]
  },
  {
   "cell_type": "code",
   "execution_count": 677,
   "metadata": {},
   "outputs": [
    {
     "data": {
      "text/plain": [
       "{'emp1': {'name': 'Jhon', 'salary': 7500},\n",
       " 'emp2': {'name': 'Emma', 'salary': 8000},\n",
       " 'emp3': {'name': 'Brad', 'salary': 8500}}"
      ]
     },
     "execution_count": 677,
     "metadata": {},
     "output_type": "execute_result"
    }
   ],
   "source": [
    "sampleDict = {\n",
    "    'emp1': {'name': 'Jhon', 'salary': 7500},\n",
    "    'emp2': {'name': 'Emma', 'salary': 8000},\n",
    "    'emp3': {'name': 'Brad', 'salary': 6500},\n",
    "}\n",
    "\n",
    "for key, data in sampleDict.items():\n",
    "    if data['name'] == 'Brad':\n",
    "        data['salary'] = 8500\n",
    "\n",
    "sampleDict"
   ]
  }
 ],
 "metadata": {
  "kernelspec": {
   "display_name": "Python 3",
   "language": "python",
   "name": "python3"
  },
  "language_info": {
   "codemirror_mode": {
    "name": "ipython",
    "version": 3
   },
   "file_extension": ".py",
   "mimetype": "text/x-python",
   "name": "python",
   "nbconvert_exporter": "python",
   "pygments_lexer": "ipython3",
   "version": "3.12.3"
  }
 },
 "nbformat": 4,
 "nbformat_minor": 1
}
