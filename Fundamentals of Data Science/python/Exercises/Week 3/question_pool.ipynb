{
 "cells": [
  {
   "cell_type": "code",
   "execution_count": 1,
   "metadata": {},
   "outputs": [],
   "source": [
    "import os\n",
    "from glob import glob\n",
    "\n",
    "# needs lxml\n",
    "import pandas as pd\n",
    "# import xmltodict\n",
    "\n",
    "xml_dir = './question_pool/'\n",
    "excel_dir = './question_pool/excel/'\n"
   ]
  },
  {
   "cell_type": "markdown",
   "metadata": {},
   "source": [
    "## 1. Convert **xml** format to **excel format**"
   ]
  },
  {
   "cell_type": "code",
   "execution_count": 2,
   "metadata": {},
   "outputs": [],
   "source": [
    "xml_data: list[pd.DataFrame] = []\n",
    "\n",
    "\n",
    "for file in glob(f'{xml_dir}*.xml'):\n",
    "    df = pd.read_xml(file)\n",
    "\n",
    "    # substring for the file name without the extension\n",
    "    f_name = file[16:-4]\n",
    "    os.makedirs(excel_dir, exist_ok=True)\n",
    "    df.to_excel(f'{excel_dir}{f_name}.xlsx')\n",
    "\n",
    "    xml_data.append(df)"
   ]
  },
  {
   "cell_type": "markdown",
   "metadata": {},
   "source": [
    "## 2. - Create new column: `level`, `q_types`"
   ]
  },
  {
   "cell_type": "code",
   "execution_count": null,
   "metadata": {},
   "outputs": [],
   "source": [
    "for data_frame in xml_data:\n",
    "    data_frame['level'] = 0\n",
    "    data_frame['q_type'] = ''"
   ]
  },
  {
   "cell_type": "markdown",
   "metadata": {},
   "source": [
    "## 3. Keep only necessary column: `@type`, `name`, `level`, `q_type`"
   ]
  },
  {
   "cell_type": "code",
   "execution_count": null,
   "metadata": {},
   "outputs": [],
   "source": [
    "keep_columns = pd.Index(['type', 'name', 'level', 'q_type'])\n",
    "\n",
    "for data_frame in xml_data:\n",
    "    # get the columns in the dataframe thats not in keep_columns\n",
    "    remove_columns = data_frame.columns.difference(keep_columns)\n",
    "    \n",
    "    # drop them, inplace = True for mutation\n",
    "    data_frame.drop(columns=remove_columns, inplace=True)"
   ]
  },
  {
   "cell_type": "markdown",
   "metadata": {},
   "source": [
    "## 4. Combine each question pools into one dataset"
   ]
  },
  {
   "cell_type": "code",
   "execution_count": 11,
   "metadata": {},
   "outputs": [],
   "source": [
    "data = pd.concat(xml_data)"
   ]
  },
  {
   "cell_type": "code",
   "execution_count": 12,
   "metadata": {},
   "outputs": [],
   "source": [
    "data.to_excel('question_pool_output.xlsx')"
   ]
  }
 ],
 "metadata": {
  "kernelspec": {
   "display_name": ".venv",
   "language": "python",
   "name": "python3"
  },
  "language_info": {
   "codemirror_mode": {
    "name": "ipython",
    "version": 3
   },
   "file_extension": ".py",
   "mimetype": "text/x-python",
   "name": "python",
   "nbconvert_exporter": "python",
   "pygments_lexer": "ipython3",
   "version": "3.12.9"
  }
 },
 "nbformat": 4,
 "nbformat_minor": 2
}
