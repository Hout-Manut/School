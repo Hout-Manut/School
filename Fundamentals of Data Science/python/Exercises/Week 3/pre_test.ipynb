{
 "cells": [
  {
   "cell_type": "markdown",
   "metadata": {},
   "source": [
    "## 1. Understand the dataset"
   ]
  },
  {
   "cell_type": "markdown",
   "metadata": {},
   "source": [
    "## 2. Combine all dataset"
   ]
  },
  {
   "cell_type": "code",
   "execution_count": 47,
   "metadata": {},
   "outputs": [],
   "source": [
    "import os\n",
    "\n",
    "# needs openpyxl\n",
    "import pandas as pd\n",
    "\n",
    "excel_data: list[pd.DataFrame] = []\n",
    "csv_data: list[pd.DataFrame] = []\n",
    "\n",
    "for root, dirs, files in os.walk('./pre_test'):\n",
    "    for file in files:\n",
    "        path = os.path.join(root, file)\n",
    "        if file.endswith('.xlsx'):\n",
    "            excel_data.append(pd.read_excel(path))\n",
    "        elif file.endswith('.csv'):\n",
    "            csv_data.append(pd.read_csv(path))"
   ]
  },
  {
   "cell_type": "code",
   "execution_count": 48,
   "metadata": {},
   "outputs": [],
   "source": [
    "for data_frame in [*excel_data, *csv_data]:\n",
    "    data_frame.drop(data_frame[-1:0].index, inplace=True)"
   ]
  },
  {
   "cell_type": "code",
   "execution_count": 49,
   "metadata": {},
   "outputs": [],
   "source": [
    "data = pd.concat([*excel_data, *csv_data])"
   ]
  },
  {
   "cell_type": "markdown",
   "metadata": {},
   "source": [
    "## 3. Check and change data type of each column to appropriate type\n",
    "## 4. Replace ( – ) by 0"
   ]
  },
  {
   "cell_type": "code",
   "execution_count": 50,
   "metadata": {},
   "outputs": [],
   "source": [
    "# print(data.dtypes)\n",
    "\n",
    "for c in data.columns:\n",
    "    if c == 'Grade/100.00' or c.startswith('Q.'):\n",
    "        data[c] = data[c].map(lambda x: float(x) if x != '-' else 0)"
   ]
  },
  {
   "cell_type": "markdown",
   "metadata": {},
   "source": [
    "## 5. Drop duplicates"
   ]
  },
  {
   "cell_type": "code",
   "execution_count": 51,
   "metadata": {},
   "outputs": [],
   "source": [
    "data = data.drop_duplicates()"
   ]
  },
  {
   "cell_type": "markdown",
   "metadata": {},
   "source": [
    "## 6. Create new column ‘Label’ – Passed if greater than or equal to 60, Failed if less than 60"
   ]
  },
  {
   "cell_type": "code",
   "execution_count": null,
   "metadata": {},
   "outputs": [],
   "source": [
    "\n",
    "data['Label'] = data['Grade/100.00'].map(\n",
    "    lambda x: 'Passed' if x >= 60 else 'Failed'\n",
    ")"
   ]
  },
  {
   "cell_type": "markdown",
   "metadata": {},
   "source": [
    "## 7. Rename Grade/100.00 to Total Score"
   ]
  },
  {
   "cell_type": "code",
   "execution_count": null,
   "metadata": {},
   "outputs": [],
   "source": [
    "data = data.rename(columns={'Grade/100.00': 'Total Score'})"
   ]
  },
  {
   "cell_type": "markdown",
   "metadata": {},
   "source": [
    "## 8. Detect outliers in Total Score column – Keep outliers in our case"
   ]
  },
  {
   "cell_type": "code",
   "execution_count": null,
   "metadata": {},
   "outputs": [],
   "source": [
    "q1 = data['Total Score'].quantile(0.25)\n",
    "q3 = data['Total Score'].quantile(0.75)\n",
    "\n",
    "iqr = q3 - q1\n",
    "\n",
    "lower_bound = q1 - 1.5 * iqr\n",
    "upper_bound = q3 + 1.5 * iqr\n",
    "\n",
    "outliers = data[\n",
    "    (data['Total Score'] < lower_bound) | (data['Total Score'] > upper_bound)\n",
    "]\n",
    "\n",
    "outliers"
   ]
  },
  {
   "cell_type": "markdown",
   "metadata": {},
   "source": [
    "## 9. Drop row where State is not Finished"
   ]
  },
  {
   "cell_type": "code",
   "execution_count": 55,
   "metadata": {},
   "outputs": [],
   "source": [
    "data = data.drop(data.loc[data['State'] != \"Finished\"].index)\n",
    "data = data.reindex()"
   ]
  },
  {
   "cell_type": "markdown",
   "metadata": {},
   "source": [
    "## 10. Deal with missing values if any"
   ]
  },
  {
   "cell_type": "code",
   "execution_count": 56,
   "metadata": {},
   "outputs": [
    {
     "name": "stdout",
     "output_type": "stream",
     "text": [
      "2670\n",
      "2670\n"
     ]
    }
   ],
   "source": [
    "print(len(data))\n",
    "data.dropna()\n",
    "print(len(data))"
   ]
  },
  {
   "cell_type": "code",
   "execution_count": 57,
   "metadata": {},
   "outputs": [],
   "source": [
    "data.to_excel('pre_test_output.xlsx')"
   ]
  }
 ],
 "metadata": {
  "kernelspec": {
   "display_name": ".venv",
   "language": "python",
   "name": "python3"
  },
  "language_info": {
   "codemirror_mode": {
    "name": "ipython",
    "version": 3
   },
   "file_extension": ".py",
   "mimetype": "text/x-python",
   "name": "python",
   "nbconvert_exporter": "python",
   "pygments_lexer": "ipython3",
   "version": "3.12.9"
  }
 },
 "nbformat": 4,
 "nbformat_minor": 2
}
