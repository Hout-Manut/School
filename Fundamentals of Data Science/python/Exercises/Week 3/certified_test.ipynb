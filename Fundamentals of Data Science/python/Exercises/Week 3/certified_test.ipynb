{
 "cells": [
  {
   "cell_type": "markdown",
   "metadata": {},
   "source": [
    "## 1. Understand the dataset"
   ]
  },
  {
   "cell_type": "markdown",
   "metadata": {},
   "source": [
    "## 2. Combine all dataset"
   ]
  },
  {
   "cell_type": "code",
   "execution_count": 23,
   "metadata": {},
   "outputs": [],
   "source": [
    "import os\n",
    "\n",
    "import pandas as pd\n",
    "\n",
    "excel_data: list[dict[str, pd.DataFrame]] = []\n",
    "\n",
    "for root, dirs, files in os.walk('./certified_test'):\n",
    "    for file in files:\n",
    "        if file.endswith('.xlsx'):\n",
    "            path = os.path.join(root, file)\n",
    "\n",
    "            excel_data.append(pd.read_excel(path, sheet_name=None))"
   ]
  },
  {
   "cell_type": "code",
   "execution_count": 24,
   "metadata": {},
   "outputs": [],
   "source": [
    "data_frames = []\n",
    "\n",
    "for item in excel_data:\n",
    "    for sheet, data_frame in item.items():\n",
    "        data_frame.drop(data_frame[-1:].index, inplace=True)\n",
    "        data_frames.append(data_frame)"
   ]
  },
  {
   "cell_type": "code",
   "execution_count": 25,
   "metadata": {},
   "outputs": [],
   "source": [
    "data = pd.concat(data_frames)"
   ]
  },
  {
   "cell_type": "markdown",
   "metadata": {},
   "source": [
    "## 3. Check and change data type of each column to appropriate type"
   ]
  },
  {
   "cell_type": "markdown",
   "metadata": {},
   "source": [
    "## 4. Replace ( – ) by 0\n",
    "\n",
    "Both steps done here"
   ]
  },
  {
   "cell_type": "code",
   "execution_count": 26,
   "metadata": {},
   "outputs": [],
   "source": [
    "for c in data.columns:\n",
    "    if c == 'Grade/100.00' or c.startswith('Q.'):\n",
    "        data[c] = data[c].map(lambda x: float(x) if x != '-' else 0)"
   ]
  },
  {
   "cell_type": "markdown",
   "metadata": {},
   "source": [
    "## 5. Drop duplicates"
   ]
  },
  {
   "cell_type": "code",
   "execution_count": 27,
   "metadata": {},
   "outputs": [],
   "source": [
    "data = data.drop_duplicates()"
   ]
  },
  {
   "cell_type": "markdown",
   "metadata": {},
   "source": [
    "## 6. Create new column ‘Label’ – Passed if greater than or equal to 60, Failed if less than 60"
   ]
  },
  {
   "cell_type": "code",
   "execution_count": 36,
   "metadata": {},
   "outputs": [
    {
     "data": {
      "text/html": [
       "<div>\n",
       "<style scoped>\n",
       "    .dataframe tbody tr th:only-of-type {\n",
       "        vertical-align: middle;\n",
       "    }\n",
       "\n",
       "    .dataframe tbody tr th {\n",
       "        vertical-align: top;\n",
       "    }\n",
       "\n",
       "    .dataframe thead th {\n",
       "        text-align: right;\n",
       "    }\n",
       "</style>\n",
       "<table border=\"1\" class=\"dataframe\">\n",
       "  <thead>\n",
       "    <tr style=\"text-align: right;\">\n",
       "      <th></th>\n",
       "      <th>Grade/100.00</th>\n",
       "      <th>Label</th>\n",
       "    </tr>\n",
       "  </thead>\n",
       "  <tbody>\n",
       "    <tr>\n",
       "      <th>0</th>\n",
       "      <td>58.13</td>\n",
       "      <td>Failed</td>\n",
       "    </tr>\n",
       "    <tr>\n",
       "      <th>1</th>\n",
       "      <td>69.38</td>\n",
       "      <td>Passed</td>\n",
       "    </tr>\n",
       "    <tr>\n",
       "      <th>2</th>\n",
       "      <td>54.31</td>\n",
       "      <td>Failed</td>\n",
       "    </tr>\n",
       "  </tbody>\n",
       "</table>\n",
       "</div>"
      ],
      "text/plain": [
       "   Grade/100.00   Label\n",
       "0         58.13  Failed\n",
       "1         69.38  Passed\n",
       "2         54.31  Failed"
      ]
     },
     "execution_count": 36,
     "metadata": {},
     "output_type": "execute_result"
    }
   ],
   "source": [
    "data['Label'] = data['Grade/100.00'].map(lambda x: 'Passed' if x >= 60 else 'Failed')\n",
    "\n",
    "data[:3].loc[:,['Grade/100.00', 'Label']] # check"
   ]
  },
  {
   "cell_type": "markdown",
   "metadata": {},
   "source": [
    "## 7. Rename Grade100/00 to Total Score"
   ]
  },
  {
   "cell_type": "code",
   "execution_count": 37,
   "metadata": {},
   "outputs": [
    {
     "data": {
      "text/html": [
       "<div>\n",
       "<style scoped>\n",
       "    .dataframe tbody tr th:only-of-type {\n",
       "        vertical-align: middle;\n",
       "    }\n",
       "\n",
       "    .dataframe tbody tr th {\n",
       "        vertical-align: top;\n",
       "    }\n",
       "\n",
       "    .dataframe thead th {\n",
       "        text-align: right;\n",
       "    }\n",
       "</style>\n",
       "<table border=\"1\" class=\"dataframe\">\n",
       "  <thead>\n",
       "    <tr style=\"text-align: right;\">\n",
       "      <th></th>\n",
       "      <th>Surname</th>\n",
       "      <th>First name</th>\n",
       "      <th>Email address</th>\n",
       "      <th>State</th>\n",
       "      <th>Started on</th>\n",
       "      <th>Completed</th>\n",
       "      <th>Time taken</th>\n",
       "      <th>Total Score</th>\n",
       "      <th>Q. 1 /1.00</th>\n",
       "      <th>Q. 2 /1.00</th>\n",
       "      <th>...</th>\n",
       "      <th>Q. 92 /1.00</th>\n",
       "      <th>Q. 93 /1.00</th>\n",
       "      <th>Q. 94 /1.00</th>\n",
       "      <th>Q. 95 /1.00</th>\n",
       "      <th>Q. 96 /1.00</th>\n",
       "      <th>Q. 97 /1.00</th>\n",
       "      <th>Q. 98 /1.00</th>\n",
       "      <th>Q. 99 /1.00</th>\n",
       "      <th>Q. 100 /1.00</th>\n",
       "      <th>Label</th>\n",
       "    </tr>\n",
       "  </thead>\n",
       "  <tbody>\n",
       "    <tr>\n",
       "      <th>0</th>\n",
       "      <td>វង្សច័ន្ទភូមាន</td>\n",
       "      <td>គៀត</td>\n",
       "      <td>D220131@DSEERA22.com</td>\n",
       "      <td>Finished</td>\n",
       "      <td>23 December 2022  8:14 AM</td>\n",
       "      <td>23 December 2022  9:52 AM</td>\n",
       "      <td>1 hour 37 mins</td>\n",
       "      <td>58.13</td>\n",
       "      <td>1.0</td>\n",
       "      <td>1.0</td>\n",
       "      <td>...</td>\n",
       "      <td>0.0</td>\n",
       "      <td>0.0</td>\n",
       "      <td>1.0</td>\n",
       "      <td>0.0</td>\n",
       "      <td>0.0</td>\n",
       "      <td>1.0</td>\n",
       "      <td>0.0</td>\n",
       "      <td>0.0</td>\n",
       "      <td>0.0</td>\n",
       "      <td>Failed</td>\n",
       "    </tr>\n",
       "  </tbody>\n",
       "</table>\n",
       "<p>1 rows × 109 columns</p>\n",
       "</div>"
      ],
      "text/plain": [
       "          Surname First name         Email address     State  \\\n",
       "0  វង្សច័ន្ទភូមាន        គៀត  D220131@DSEERA22.com  Finished   \n",
       "\n",
       "                  Started on                  Completed      Time taken  \\\n",
       "0  23 December 2022  8:14 AM  23 December 2022  9:52 AM  1 hour 37 mins   \n",
       "\n",
       "   Total Score  Q. 1 /1.00  Q. 2 /1.00  ...  Q. 92 /1.00  Q. 93 /1.00  \\\n",
       "0        58.13         1.0         1.0  ...          0.0          0.0   \n",
       "\n",
       "   Q. 94 /1.00  Q. 95 /1.00  Q. 96 /1.00  Q. 97 /1.00  Q. 98 /1.00  \\\n",
       "0          1.0          0.0          0.0          1.0          0.0   \n",
       "\n",
       "   Q. 99 /1.00  Q. 100 /1.00   Label  \n",
       "0          0.0           0.0  Failed  \n",
       "\n",
       "[1 rows x 109 columns]"
      ]
     },
     "execution_count": 37,
     "metadata": {},
     "output_type": "execute_result"
    }
   ],
   "source": [
    "data = data.rename(columns={'Grade/100.00': 'Total Score'})\n",
    "\n",
    "data[:1]"
   ]
  },
  {
   "cell_type": "markdown",
   "metadata": {},
   "source": [
    "## 8. Detect outliers in Total Score column – Keep outliers in our case"
   ]
  },
  {
   "cell_type": "code",
   "execution_count": null,
   "metadata": {},
   "outputs": [
    {
     "data": {
      "text/html": [
       "<div>\n",
       "<style scoped>\n",
       "    .dataframe tbody tr th:only-of-type {\n",
       "        vertical-align: middle;\n",
       "    }\n",
       "\n",
       "    .dataframe tbody tr th {\n",
       "        vertical-align: top;\n",
       "    }\n",
       "\n",
       "    .dataframe thead th {\n",
       "        text-align: right;\n",
       "    }\n",
       "</style>\n",
       "<table border=\"1\" class=\"dataframe\">\n",
       "  <thead>\n",
       "    <tr style=\"text-align: right;\">\n",
       "      <th></th>\n",
       "      <th>Surname</th>\n",
       "      <th>First name</th>\n",
       "      <th>Email address</th>\n",
       "      <th>State</th>\n",
       "      <th>Started on</th>\n",
       "      <th>Completed</th>\n",
       "      <th>Time taken</th>\n",
       "      <th>Total Score</th>\n",
       "      <th>Q. 1 /1.00</th>\n",
       "      <th>Q. 2 /1.00</th>\n",
       "      <th>...</th>\n",
       "      <th>Q. 92 /1.00</th>\n",
       "      <th>Q. 93 /1.00</th>\n",
       "      <th>Q. 94 /1.00</th>\n",
       "      <th>Q. 95 /1.00</th>\n",
       "      <th>Q. 96 /1.00</th>\n",
       "      <th>Q. 97 /1.00</th>\n",
       "      <th>Q. 98 /1.00</th>\n",
       "      <th>Q. 99 /1.00</th>\n",
       "      <th>Q. 100 /1.00</th>\n",
       "      <th>Label</th>\n",
       "    </tr>\n",
       "  </thead>\n",
       "  <tbody>\n",
       "    <tr>\n",
       "      <th>622</th>\n",
       "      <td>សុខនី</td>\n",
       "      <td>ជា</td>\n",
       "      <td>dp23422@DSEPROVINCE23.com</td>\n",
       "      <td>In progress</td>\n",
       "      <td>3 August 2023  8:01 AM</td>\n",
       "      <td>-</td>\n",
       "      <td>-</td>\n",
       "      <td>0.0</td>\n",
       "      <td>0.0</td>\n",
       "      <td>0.0</td>\n",
       "      <td>...</td>\n",
       "      <td>0.0</td>\n",
       "      <td>0.0</td>\n",
       "      <td>0.0</td>\n",
       "      <td>0.0</td>\n",
       "      <td>0.0</td>\n",
       "      <td>0.0</td>\n",
       "      <td>0.0</td>\n",
       "      <td>0.0</td>\n",
       "      <td>0.0</td>\n",
       "      <td>Failed</td>\n",
       "    </tr>\n",
       "    <tr>\n",
       "      <th>647</th>\n",
       "      <td>រតនា</td>\n",
       "      <td>សឿន</td>\n",
       "      <td>dp23470@DSEPROVINCE23.com</td>\n",
       "      <td>In progress</td>\n",
       "      <td>3 August 2023  10:18 AM</td>\n",
       "      <td>-</td>\n",
       "      <td>-</td>\n",
       "      <td>0.0</td>\n",
       "      <td>0.0</td>\n",
       "      <td>0.0</td>\n",
       "      <td>...</td>\n",
       "      <td>0.0</td>\n",
       "      <td>0.0</td>\n",
       "      <td>0.0</td>\n",
       "      <td>0.0</td>\n",
       "      <td>0.0</td>\n",
       "      <td>0.0</td>\n",
       "      <td>0.0</td>\n",
       "      <td>0.0</td>\n",
       "      <td>0.0</td>\n",
       "      <td>Failed</td>\n",
       "    </tr>\n",
       "    <tr>\n",
       "      <th>299</th>\n",
       "      <td>ចាន់ម៉ុល</td>\n",
       "      <td>ឌិន</td>\n",
       "      <td>dp231422@DSEPROVINCE23.com</td>\n",
       "      <td>Finished</td>\n",
       "      <td>2 March 2023  8:34 AM</td>\n",
       "      <td>2 March 2023  10:36 AM</td>\n",
       "      <td>2 hours 2 mins</td>\n",
       "      <td>3.0</td>\n",
       "      <td>0.0</td>\n",
       "      <td>0.0</td>\n",
       "      <td>...</td>\n",
       "      <td>0.0</td>\n",
       "      <td>0.0</td>\n",
       "      <td>0.0</td>\n",
       "      <td>0.0</td>\n",
       "      <td>0.0</td>\n",
       "      <td>0.0</td>\n",
       "      <td>0.0</td>\n",
       "      <td>0.0</td>\n",
       "      <td>0.0</td>\n",
       "      <td>Failed</td>\n",
       "    </tr>\n",
       "  </tbody>\n",
       "</table>\n",
       "<p>3 rows × 109 columns</p>\n",
       "</div>"
      ],
      "text/plain": [
       "      Surname First name               Email address        State  \\\n",
       "622     សុខនី         ជា   dp23422@DSEPROVINCE23.com  In progress   \n",
       "647      រតនា        សឿន   dp23470@DSEPROVINCE23.com  In progress   \n",
       "299  ចាន់ម៉ុល        ឌិន  dp231422@DSEPROVINCE23.com     Finished   \n",
       "\n",
       "                  Started on               Completed      Time taken  \\\n",
       "622   3 August 2023  8:01 AM                       -               -   \n",
       "647  3 August 2023  10:18 AM                       -               -   \n",
       "299    2 March 2023  8:34 AM  2 March 2023  10:36 AM  2 hours 2 mins   \n",
       "\n",
       "     Total Score  Q. 1 /1.00  Q. 2 /1.00  ...  Q. 92 /1.00  Q. 93 /1.00  \\\n",
       "622          0.0         0.0         0.0  ...          0.0          0.0   \n",
       "647          0.0         0.0         0.0  ...          0.0          0.0   \n",
       "299          3.0         0.0         0.0  ...          0.0          0.0   \n",
       "\n",
       "     Q. 94 /1.00  Q. 95 /1.00  Q. 96 /1.00  Q. 97 /1.00  Q. 98 /1.00  \\\n",
       "622          0.0          0.0          0.0          0.0          0.0   \n",
       "647          0.0          0.0          0.0          0.0          0.0   \n",
       "299          0.0          0.0          0.0          0.0          0.0   \n",
       "\n",
       "     Q. 99 /1.00  Q. 100 /1.00   Label  \n",
       "622          0.0           0.0  Failed  \n",
       "647          0.0           0.0  Failed  \n",
       "299          0.0           0.0  Failed  \n",
       "\n",
       "[3 rows x 109 columns]"
      ]
     },
     "execution_count": 19,
     "metadata": {},
     "output_type": "execute_result"
    }
   ],
   "source": [
    "# Find the average at the lower and upper 25%\n",
    "q1 = data['Total Score'].quantile(0.25)\n",
    "q3 = data['Total Score'].quantile(0.75)\n",
    "\n",
    "iqr = q3 - q1\n",
    "\n",
    "# Get the bounds\n",
    "lower_bound = q1 - 1.5 * iqr\n",
    "upper_bound = q3 + 1.5 * iqr\n",
    "\n",
    "outliers = data[(data['Total Score'] < lower_bound) | (data['Total Score'] > upper_bound)]\n",
    "\n",
    "outliers"
   ]
  },
  {
   "cell_type": "markdown",
   "metadata": {},
   "source": [
    "## 9. Drop row where State is not Finished"
   ]
  },
  {
   "cell_type": "code",
   "execution_count": 38,
   "metadata": {},
   "outputs": [],
   "source": [
    "data = data.drop(data.loc[data['State'] != \"Finished\"].index)\n",
    "data = data.reindex()"
   ]
  },
  {
   "cell_type": "markdown",
   "metadata": {},
   "source": [
    "## 10. Deal with missing values if any"
   ]
  },
  {
   "cell_type": "code",
   "execution_count": null,
   "metadata": {},
   "outputs": [
    {
     "name": "stdout",
     "output_type": "stream",
     "text": [
      "2066\n",
      "2066\n"
     ]
    }
   ],
   "source": [
    "print(len(data))\n",
    "data.dropna()\n",
    "print(len(data))"
   ]
  },
  {
   "cell_type": "markdown",
   "metadata": {},
   "source": [
    "No rows dropped means there were no missing values"
   ]
  },
  {
   "cell_type": "markdown",
   "metadata": {},
   "source": [
    "## Save to a file"
   ]
  },
  {
   "cell_type": "code",
   "execution_count": null,
   "metadata": {},
   "outputs": [],
   "source": [
    "data.to_excel('certified_test_output.xlsx')"
   ]
  }
 ],
 "metadata": {
  "kernelspec": {
   "display_name": ".venv",
   "language": "python",
   "name": "python3"
  },
  "language_info": {
   "codemirror_mode": {
    "name": "ipython",
    "version": 3
   },
   "file_extension": ".py",
   "mimetype": "text/x-python",
   "name": "python",
   "nbconvert_exporter": "python",
   "pygments_lexer": "ipython3",
   "version": "3.12.9"
  }
 },
 "nbformat": 4,
 "nbformat_minor": 2
}
